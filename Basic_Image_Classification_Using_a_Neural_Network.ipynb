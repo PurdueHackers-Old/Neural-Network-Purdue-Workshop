{
  "nbformat": 4,
  "nbformat_minor": 0,
  "metadata": {
    "colab": {
      "name": "Basic Image Classification Using a Neural Network.ipynb",
      "version": "0.3.2",
      "provenance": [],
      "include_colab_link": true
    },
    "kernelspec": {
      "name": "python3",
      "display_name": "Python 3"
    }
  },
  "cells": [
    {
      "cell_type": "markdown",
      "metadata": {
        "id": "view-in-github",
        "colab_type": "text"
      },
      "source": [
        "<a href=\"https://colab.research.google.com/github/viraatdas/Neural-Network-Purdue-Workshop/blob/master/Basic_Image_Classification_Using_a_Neural_Network.ipynb\" target=\"_parent\"><img src=\"https://colab.research.google.com/assets/colab-badge.svg\" alt=\"Open In Colab\"/></a>"
      ]
    },
    {
      "metadata": {
        "id": "_zALV93PjoK4",
        "colab_type": "code",
        "colab": {}
      },
      "cell_type": "code",
      "source": [
        "print (\"wusssssuuuupppp\")"
      ],
      "execution_count": 0,
      "outputs": []
    },
    {
      "metadata": {
        "id": "gd1ukk1PjqK9",
        "colab_type": "text"
      },
      "cell_type": "markdown",
      "source": [
        "Import the required libraries"
      ]
    },
    {
      "metadata": {
        "id": "OBh20VPekS_H",
        "colab_type": "code",
        "colab": {}
      },
      "cell_type": "code",
      "source": [
        ""
      ],
      "execution_count": 0,
      "outputs": []
    },
    {
      "metadata": {
        "id": "m6UtkRTqkUIl",
        "colab_type": "text"
      },
      "cell_type": "markdown",
      "source": [
        "Import the MNIST Fashion dataset"
      ]
    },
    {
      "metadata": {
        "id": "wdbF3D1Ckhwi",
        "colab_type": "code",
        "colab": {}
      },
      "cell_type": "code",
      "source": [
        ""
      ],
      "execution_count": 0,
      "outputs": []
    },
    {
      "metadata": {
        "id": "8uvJ1M-NktS7",
        "colab_type": "text"
      },
      "cell_type": "markdown",
      "source": [
        "https://github.com/zalandoresearch/fashion-mnist\n",
        "\n",
        "https://github.com/datapythonista/mnist"
      ]
    },
    {
      "metadata": {
        "id": "ox-xRV7nPiXO",
        "colab_type": "code",
        "colab": {}
      },
      "cell_type": "code",
      "source": [
        ""
      ],
      "execution_count": 0,
      "outputs": []
    },
    {
      "metadata": {
        "id": "LCQy3DzZPj8Q",
        "colab_type": "text"
      },
      "cell_type": "markdown",
      "source": [
        "0\tT-shirt/top\n",
        "1\tTrouser\n",
        "2\tPullover\n",
        "3\tDress\n",
        "4\tCoat\n",
        "5\tSandal\n",
        "6\tShirt\n",
        "7\tSneaker\n",
        "8\tBag\n",
        "9\tAnkle boot"
      ]
    },
    {
      "metadata": {
        "id": "RnADi-p5TKdO",
        "colab_type": "code",
        "colab": {}
      },
      "cell_type": "code",
      "source": [
        ""
      ],
      "execution_count": 0,
      "outputs": []
    },
    {
      "metadata": {
        "id": "tGSwZtmnTN6_",
        "colab_type": "text"
      },
      "cell_type": "markdown",
      "source": [
        "Let us see different property of this dataset"
      ]
    },
    {
      "metadata": {
        "id": "WB3ZNOneTSx6",
        "colab_type": "code",
        "colab": {}
      },
      "cell_type": "code",
      "source": [
        ""
      ],
      "execution_count": 0,
      "outputs": []
    },
    {
      "metadata": {
        "id": "iHqaFHmuTjBF",
        "colab_type": "text"
      },
      "cell_type": "markdown",
      "source": [
        "Understand the train_images"
      ]
    },
    {
      "metadata": {
        "id": "LnwFKfNeTwk9",
        "colab_type": "code",
        "colab": {}
      },
      "cell_type": "code",
      "source": [
        ""
      ],
      "execution_count": 0,
      "outputs": []
    },
    {
      "metadata": {
        "id": "CCGgDRM0TxIH",
        "colab_type": "text"
      },
      "cell_type": "markdown",
      "source": [
        "Preprocess the data"
      ]
    },
    {
      "metadata": {
        "id": "Hbm7pjJYT6j6",
        "colab_type": "code",
        "colab": {}
      },
      "cell_type": "code",
      "source": [
        ""
      ],
      "execution_count": 0,
      "outputs": []
    },
    {
      "metadata": {
        "id": "iE-ybqHzT8gW",
        "colab_type": "text"
      },
      "cell_type": "markdown",
      "source": [
        "Downscaling and standardizing the data"
      ]
    },
    {
      "metadata": {
        "id": "GT31CzN5UM9t",
        "colab_type": "code",
        "colab": {}
      },
      "cell_type": "code",
      "source": [
        ""
      ],
      "execution_count": 0,
      "outputs": []
    },
    {
      "metadata": {
        "id": "f8zr-YNyUNao",
        "colab_type": "text"
      },
      "cell_type": "markdown",
      "source": [
        "Sanity check for the images"
      ]
    },
    {
      "metadata": {
        "id": "m7NYX2PIUQjA",
        "colab_type": "code",
        "colab": {}
      },
      "cell_type": "code",
      "source": [
        ""
      ],
      "execution_count": 0,
      "outputs": []
    },
    {
      "metadata": {
        "id": "xk611WaVUooj",
        "colab_type": "text"
      },
      "cell_type": "markdown",
      "source": [
        "**BUILD MODEL**\n",
        "\n",
        "Setup the layers"
      ]
    },
    {
      "metadata": {
        "id": "wsPxx2HkVCqy",
        "colab_type": "code",
        "colab": {}
      },
      "cell_type": "code",
      "source": [
        ""
      ],
      "execution_count": 0,
      "outputs": []
    },
    {
      "metadata": {
        "id": "f4JyPpQwVC_L",
        "colab_type": "text"
      },
      "cell_type": "markdown",
      "source": [
        "Compile the function"
      ]
    },
    {
      "metadata": {
        "id": "0_quyJZKVFj0",
        "colab_type": "code",
        "colab": {}
      },
      "cell_type": "code",
      "source": [
        ""
      ],
      "execution_count": 0,
      "outputs": []
    },
    {
      "metadata": {
        "id": "LhFTdsMGVHi_",
        "colab_type": "text"
      },
      "cell_type": "markdown",
      "source": [
        "THE COOL PART\n",
        "\n",
        "**TRAIN THE MODEL**"
      ]
    },
    {
      "metadata": {
        "id": "3l8jxhGcVRmV",
        "colab_type": "code",
        "colab": {}
      },
      "cell_type": "code",
      "source": [
        ""
      ],
      "execution_count": 0,
      "outputs": []
    },
    {
      "metadata": {
        "id": "Z-22TbCtVa4Q",
        "colab_type": "text"
      },
      "cell_type": "markdown",
      "source": [
        "**Evaluate accuracy**\n",
        "\n"
      ]
    },
    {
      "metadata": {
        "id": "T9XbXOeDVlPF",
        "colab_type": "code",
        "colab": {}
      },
      "cell_type": "code",
      "source": [
        ""
      ],
      "execution_count": 0,
      "outputs": []
    },
    {
      "metadata": {
        "id": "_1rfB-47Vlz0",
        "colab_type": "text"
      },
      "cell_type": "markdown",
      "source": [
        "The even cooler part!\n",
        "\n",
        "**Make predictions**"
      ]
    },
    {
      "metadata": {
        "id": "t0_wjcGDVycy",
        "colab_type": "code",
        "colab": {}
      },
      "cell_type": "code",
      "source": [
        ""
      ],
      "execution_count": 0,
      "outputs": []
    },
    {
      "metadata": {
        "id": "bLlsn0D_Vykd",
        "colab_type": "text"
      },
      "cell_type": "markdown",
      "source": [
        "Let's check out the full set of 10 channels"
      ]
    },
    {
      "metadata": {
        "id": "tAWfl7oTV9nw",
        "colab_type": "code",
        "colab": {}
      },
      "cell_type": "code",
      "source": [
        ""
      ],
      "execution_count": 0,
      "outputs": []
    },
    {
      "metadata": {
        "id": "7wM4tzNbV-PN",
        "colab_type": "text"
      },
      "cell_type": "markdown",
      "source": [
        ""
      ]
    },
    {
      "metadata": {
        "id": "DAN3VHLCWMqO",
        "colab_type": "code",
        "colab": {}
      },
      "cell_type": "code",
      "source": [
        ""
      ],
      "execution_count": 0,
      "outputs": []
    },
    {
      "metadata": {
        "id": "tz7ylmCbWM9u",
        "colab_type": "text"
      },
      "cell_type": "markdown",
      "source": [
        "Prediction array for images"
      ]
    },
    {
      "metadata": {
        "id": "Q9b-_d_5WXrS",
        "colab_type": "code",
        "colab": {}
      },
      "cell_type": "code",
      "source": [
        ""
      ],
      "execution_count": 0,
      "outputs": []
    },
    {
      "metadata": {
        "id": "-76JNBQSWstC",
        "colab_type": "text"
      },
      "cell_type": "markdown",
      "source": [
        "Compare accuracies of code"
      ]
    },
    {
      "metadata": {
        "id": "OvPoECotWxFx",
        "colab_type": "code",
        "colab": {}
      },
      "cell_type": "code",
      "source": [
        ""
      ],
      "execution_count": 0,
      "outputs": []
    },
    {
      "metadata": {
        "id": "kKmm_WGqX5Ei",
        "colab_type": "text"
      },
      "cell_type": "markdown",
      "source": [
        "Time to make predictions for the image"
      ]
    },
    {
      "metadata": {
        "id": "BqbS_actYSj7",
        "colab_type": "code",
        "colab": {}
      },
      "cell_type": "code",
      "source": [
        ""
      ],
      "execution_count": 0,
      "outputs": []
    },
    {
      "metadata": {
        "id": "kzwNxPE2YSq9",
        "colab_type": "text"
      },
      "cell_type": "markdown",
      "source": [
        ""
      ]
    }
  ]
}